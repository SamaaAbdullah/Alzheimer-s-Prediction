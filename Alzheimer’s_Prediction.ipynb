{
  "cells": [
    {
      "cell_type": "code",
      "execution_count": null,
      "metadata": {
        "id": "0MFF05kXZYxZ"
      },
      "outputs": [],
      "source": [
        "import pandas as pd\n",
        "import matplotlib.pyplot as plt\n",
        "import seaborn as sns\n",
        "from sklearn.preprocessing import OneHotEncoder, StandardScaler\n",
        "from sklearn.model_selection import train_test_split\n",
        "df=pd.read_csv('alzheimers.csv')"
      ]
    },
    {
      "cell_type": "code",
      "execution_count": null,
      "metadata": {
        "colab": {
          "base_uri": "https://localhost:8080/"
        },
        "id": "YFXHrVJTwxjm",
        "outputId": "fff84e6d-a14a-413e-9673-0911ef0b4071"
      },
      "outputs": [
        {
          "output_type": "stream",
          "name": "stdout",
          "text": [
            "<class 'pandas.core.frame.DataFrame'>\n",
            "RangeIndex: 74283 entries, 0 to 74282\n",
            "Data columns (total 25 columns):\n",
            " #   Column                                Non-Null Count  Dtype  \n",
            "---  ------                                --------------  -----  \n",
            " 0   Country                               74283 non-null  object \n",
            " 1   Age                                   74283 non-null  int64  \n",
            " 2   Gender                                74283 non-null  object \n",
            " 3   Education Level                       74283 non-null  int64  \n",
            " 4   BMI                                   74283 non-null  float64\n",
            " 5   Physical Activity Level               74283 non-null  object \n",
            " 6   Smoking Status                        74283 non-null  object \n",
            " 7   Alcohol Consumption                   74283 non-null  object \n",
            " 8   Diabetes                              74283 non-null  object \n",
            " 9   Hypertension                          74283 non-null  object \n",
            " 10  Cholesterol Level                     74283 non-null  object \n",
            " 11  Family History of Alzheimer’s         74283 non-null  object \n",
            " 12  Cognitive Test Score                  74283 non-null  int64  \n",
            " 13  Depression Level                      74283 non-null  object \n",
            " 14  Sleep Quality                         74283 non-null  object \n",
            " 15  Dietary Habits                        74283 non-null  object \n",
            " 16  Air Pollution Exposure                74283 non-null  object \n",
            " 17  Employment Status                     74283 non-null  object \n",
            " 18  Marital Status                        74283 non-null  object \n",
            " 19  Genetic Risk Factor (APOE-ε4 allele)  74283 non-null  object \n",
            " 20  Social Engagement Level               74283 non-null  object \n",
            " 21  Income Level                          74283 non-null  object \n",
            " 22  Stress Levels                         74283 non-null  object \n",
            " 23  Urban vs Rural Living                 74283 non-null  object \n",
            " 24  Alzheimer’s Diagnosis                 74283 non-null  object \n",
            "dtypes: float64(1), int64(3), object(21)\n",
            "memory usage: 14.2+ MB\n"
          ]
        }
      ],
      "source": [
        "df.info()"
      ]
    },
    {
      "cell_type": "code",
      "execution_count": null,
      "metadata": {
        "colab": {
          "base_uri": "https://localhost:8080/",
          "height": 359
        },
        "id": "j-Qu7RKOwxmZ",
        "outputId": "07de6c0a-8901-46f5-c355-c721d2d3c58b"
      },
      "outputs": [
        {
          "output_type": "execute_result",
          "data": {
            "text/plain": [
              "        Country  Age  Gender  Education Level   BMI Physical Activity Level  \\\n",
              "0         Spain   90    Male                1  33.0                  Medium   \n",
              "1     Argentina   72    Male                7  29.9                  Medium   \n",
              "2  South Africa   86  Female               19  22.9                    High   \n",
              "3         China   53    Male               17  31.2                     Low   \n",
              "4        Sweden   58  Female                3  30.0                    High   \n",
              "\n",
              "  Smoking Status Alcohol Consumption Diabetes Hypertension  ...  \\\n",
              "0          Never        Occasionally       No           No  ...   \n",
              "1         Former               Never       No           No  ...   \n",
              "2        Current        Occasionally       No          Yes  ...   \n",
              "3          Never           Regularly      Yes           No  ...   \n",
              "4         Former               Never      Yes           No  ...   \n",
              "\n",
              "  Dietary Habits Air Pollution Exposure  Employment Status Marital Status  \\\n",
              "0        Healthy                   High            Retired         Single   \n",
              "1        Healthy                 Medium         Unemployed        Widowed   \n",
              "2        Average                 Medium           Employed         Single   \n",
              "3        Healthy                 Medium            Retired         Single   \n",
              "4      Unhealthy                   High           Employed        Married   \n",
              "\n",
              "  Genetic Risk Factor (APOE-ε4 allele) Social Engagement Level Income Level  \\\n",
              "0                                   No                     Low       Medium   \n",
              "1                                   No                    High          Low   \n",
              "2                                   No                     Low       Medium   \n",
              "3                                   No                    High       Medium   \n",
              "4                                   No                     Low       Medium   \n",
              "\n",
              "  Stress Levels Urban vs Rural Living Alzheimer’s Diagnosis  \n",
              "0          High                 Urban                    No  \n",
              "1          High                 Urban                    No  \n",
              "2          High                 Rural                    No  \n",
              "3           Low                 Rural                    No  \n",
              "4          High                 Rural                    No  \n",
              "\n",
              "[5 rows x 25 columns]"
            ],
            "text/html": [
              "\n",
              "  <div id=\"df-ba30fa2f-c459-4ffa-b766-81dbff1f0f1a\" class=\"colab-df-container\">\n",
              "    <div>\n",
              "<style scoped>\n",
              "    .dataframe tbody tr th:only-of-type {\n",
              "        vertical-align: middle;\n",
              "    }\n",
              "\n",
              "    .dataframe tbody tr th {\n",
              "        vertical-align: top;\n",
              "    }\n",
              "\n",
              "    .dataframe thead th {\n",
              "        text-align: right;\n",
              "    }\n",
              "</style>\n",
              "<table border=\"1\" class=\"dataframe\">\n",
              "  <thead>\n",
              "    <tr style=\"text-align: right;\">\n",
              "      <th></th>\n",
              "      <th>Country</th>\n",
              "      <th>Age</th>\n",
              "      <th>Gender</th>\n",
              "      <th>Education Level</th>\n",
              "      <th>BMI</th>\n",
              "      <th>Physical Activity Level</th>\n",
              "      <th>Smoking Status</th>\n",
              "      <th>Alcohol Consumption</th>\n",
              "      <th>Diabetes</th>\n",
              "      <th>Hypertension</th>\n",
              "      <th>...</th>\n",
              "      <th>Dietary Habits</th>\n",
              "      <th>Air Pollution Exposure</th>\n",
              "      <th>Employment Status</th>\n",
              "      <th>Marital Status</th>\n",
              "      <th>Genetic Risk Factor (APOE-ε4 allele)</th>\n",
              "      <th>Social Engagement Level</th>\n",
              "      <th>Income Level</th>\n",
              "      <th>Stress Levels</th>\n",
              "      <th>Urban vs Rural Living</th>\n",
              "      <th>Alzheimer’s Diagnosis</th>\n",
              "    </tr>\n",
              "  </thead>\n",
              "  <tbody>\n",
              "    <tr>\n",
              "      <th>0</th>\n",
              "      <td>Spain</td>\n",
              "      <td>90</td>\n",
              "      <td>Male</td>\n",
              "      <td>1</td>\n",
              "      <td>33.0</td>\n",
              "      <td>Medium</td>\n",
              "      <td>Never</td>\n",
              "      <td>Occasionally</td>\n",
              "      <td>No</td>\n",
              "      <td>No</td>\n",
              "      <td>...</td>\n",
              "      <td>Healthy</td>\n",
              "      <td>High</td>\n",
              "      <td>Retired</td>\n",
              "      <td>Single</td>\n",
              "      <td>No</td>\n",
              "      <td>Low</td>\n",
              "      <td>Medium</td>\n",
              "      <td>High</td>\n",
              "      <td>Urban</td>\n",
              "      <td>No</td>\n",
              "    </tr>\n",
              "    <tr>\n",
              "      <th>1</th>\n",
              "      <td>Argentina</td>\n",
              "      <td>72</td>\n",
              "      <td>Male</td>\n",
              "      <td>7</td>\n",
              "      <td>29.9</td>\n",
              "      <td>Medium</td>\n",
              "      <td>Former</td>\n",
              "      <td>Never</td>\n",
              "      <td>No</td>\n",
              "      <td>No</td>\n",
              "      <td>...</td>\n",
              "      <td>Healthy</td>\n",
              "      <td>Medium</td>\n",
              "      <td>Unemployed</td>\n",
              "      <td>Widowed</td>\n",
              "      <td>No</td>\n",
              "      <td>High</td>\n",
              "      <td>Low</td>\n",
              "      <td>High</td>\n",
              "      <td>Urban</td>\n",
              "      <td>No</td>\n",
              "    </tr>\n",
              "    <tr>\n",
              "      <th>2</th>\n",
              "      <td>South Africa</td>\n",
              "      <td>86</td>\n",
              "      <td>Female</td>\n",
              "      <td>19</td>\n",
              "      <td>22.9</td>\n",
              "      <td>High</td>\n",
              "      <td>Current</td>\n",
              "      <td>Occasionally</td>\n",
              "      <td>No</td>\n",
              "      <td>Yes</td>\n",
              "      <td>...</td>\n",
              "      <td>Average</td>\n",
              "      <td>Medium</td>\n",
              "      <td>Employed</td>\n",
              "      <td>Single</td>\n",
              "      <td>No</td>\n",
              "      <td>Low</td>\n",
              "      <td>Medium</td>\n",
              "      <td>High</td>\n",
              "      <td>Rural</td>\n",
              "      <td>No</td>\n",
              "    </tr>\n",
              "    <tr>\n",
              "      <th>3</th>\n",
              "      <td>China</td>\n",
              "      <td>53</td>\n",
              "      <td>Male</td>\n",
              "      <td>17</td>\n",
              "      <td>31.2</td>\n",
              "      <td>Low</td>\n",
              "      <td>Never</td>\n",
              "      <td>Regularly</td>\n",
              "      <td>Yes</td>\n",
              "      <td>No</td>\n",
              "      <td>...</td>\n",
              "      <td>Healthy</td>\n",
              "      <td>Medium</td>\n",
              "      <td>Retired</td>\n",
              "      <td>Single</td>\n",
              "      <td>No</td>\n",
              "      <td>High</td>\n",
              "      <td>Medium</td>\n",
              "      <td>Low</td>\n",
              "      <td>Rural</td>\n",
              "      <td>No</td>\n",
              "    </tr>\n",
              "    <tr>\n",
              "      <th>4</th>\n",
              "      <td>Sweden</td>\n",
              "      <td>58</td>\n",
              "      <td>Female</td>\n",
              "      <td>3</td>\n",
              "      <td>30.0</td>\n",
              "      <td>High</td>\n",
              "      <td>Former</td>\n",
              "      <td>Never</td>\n",
              "      <td>Yes</td>\n",
              "      <td>No</td>\n",
              "      <td>...</td>\n",
              "      <td>Unhealthy</td>\n",
              "      <td>High</td>\n",
              "      <td>Employed</td>\n",
              "      <td>Married</td>\n",
              "      <td>No</td>\n",
              "      <td>Low</td>\n",
              "      <td>Medium</td>\n",
              "      <td>High</td>\n",
              "      <td>Rural</td>\n",
              "      <td>No</td>\n",
              "    </tr>\n",
              "  </tbody>\n",
              "</table>\n",
              "<p>5 rows × 25 columns</p>\n",
              "</div>\n",
              "    <div class=\"colab-df-buttons\">\n",
              "\n",
              "  <div class=\"colab-df-container\">\n",
              "    <button class=\"colab-df-convert\" onclick=\"convertToInteractive('df-ba30fa2f-c459-4ffa-b766-81dbff1f0f1a')\"\n",
              "            title=\"Convert this dataframe to an interactive table.\"\n",
              "            style=\"display:none;\">\n",
              "\n",
              "  <svg xmlns=\"http://www.w3.org/2000/svg\" height=\"24px\" viewBox=\"0 -960 960 960\">\n",
              "    <path d=\"M120-120v-720h720v720H120Zm60-500h600v-160H180v160Zm220 220h160v-160H400v160Zm0 220h160v-160H400v160ZM180-400h160v-160H180v160Zm440 0h160v-160H620v160ZM180-180h160v-160H180v160Zm440 0h160v-160H620v160Z\"/>\n",
              "  </svg>\n",
              "    </button>\n",
              "\n",
              "  <style>\n",
              "    .colab-df-container {\n",
              "      display:flex;\n",
              "      gap: 12px;\n",
              "    }\n",
              "\n",
              "    .colab-df-convert {\n",
              "      background-color: #E8F0FE;\n",
              "      border: none;\n",
              "      border-radius: 50%;\n",
              "      cursor: pointer;\n",
              "      display: none;\n",
              "      fill: #1967D2;\n",
              "      height: 32px;\n",
              "      padding: 0 0 0 0;\n",
              "      width: 32px;\n",
              "    }\n",
              "\n",
              "    .colab-df-convert:hover {\n",
              "      background-color: #E2EBFA;\n",
              "      box-shadow: 0px 1px 2px rgba(60, 64, 67, 0.3), 0px 1px 3px 1px rgba(60, 64, 67, 0.15);\n",
              "      fill: #174EA6;\n",
              "    }\n",
              "\n",
              "    .colab-df-buttons div {\n",
              "      margin-bottom: 4px;\n",
              "    }\n",
              "\n",
              "    [theme=dark] .colab-df-convert {\n",
              "      background-color: #3B4455;\n",
              "      fill: #D2E3FC;\n",
              "    }\n",
              "\n",
              "    [theme=dark] .colab-df-convert:hover {\n",
              "      background-color: #434B5C;\n",
              "      box-shadow: 0px 1px 3px 1px rgba(0, 0, 0, 0.15);\n",
              "      filter: drop-shadow(0px 1px 2px rgba(0, 0, 0, 0.3));\n",
              "      fill: #FFFFFF;\n",
              "    }\n",
              "  </style>\n",
              "\n",
              "    <script>\n",
              "      const buttonEl =\n",
              "        document.querySelector('#df-ba30fa2f-c459-4ffa-b766-81dbff1f0f1a button.colab-df-convert');\n",
              "      buttonEl.style.display =\n",
              "        google.colab.kernel.accessAllowed ? 'block' : 'none';\n",
              "\n",
              "      async function convertToInteractive(key) {\n",
              "        const element = document.querySelector('#df-ba30fa2f-c459-4ffa-b766-81dbff1f0f1a');\n",
              "        const dataTable =\n",
              "          await google.colab.kernel.invokeFunction('convertToInteractive',\n",
              "                                                    [key], {});\n",
              "        if (!dataTable) return;\n",
              "\n",
              "        const docLinkHtml = 'Like what you see? Visit the ' +\n",
              "          '<a target=\"_blank\" href=https://colab.research.google.com/notebooks/data_table.ipynb>data table notebook</a>'\n",
              "          + ' to learn more about interactive tables.';\n",
              "        element.innerHTML = '';\n",
              "        dataTable['output_type'] = 'display_data';\n",
              "        await google.colab.output.renderOutput(dataTable, element);\n",
              "        const docLink = document.createElement('div');\n",
              "        docLink.innerHTML = docLinkHtml;\n",
              "        element.appendChild(docLink);\n",
              "      }\n",
              "    </script>\n",
              "  </div>\n",
              "\n",
              "\n",
              "<div id=\"df-cf0e1d62-47e6-4782-bae2-561a55e91842\">\n",
              "  <button class=\"colab-df-quickchart\" onclick=\"quickchart('df-cf0e1d62-47e6-4782-bae2-561a55e91842')\"\n",
              "            title=\"Suggest charts\"\n",
              "            style=\"display:none;\">\n",
              "\n",
              "<svg xmlns=\"http://www.w3.org/2000/svg\" height=\"24px\"viewBox=\"0 0 24 24\"\n",
              "     width=\"24px\">\n",
              "    <g>\n",
              "        <path d=\"M19 3H5c-1.1 0-2 .9-2 2v14c0 1.1.9 2 2 2h14c1.1 0 2-.9 2-2V5c0-1.1-.9-2-2-2zM9 17H7v-7h2v7zm4 0h-2V7h2v10zm4 0h-2v-4h2v4z\"/>\n",
              "    </g>\n",
              "</svg>\n",
              "  </button>\n",
              "\n",
              "<style>\n",
              "  .colab-df-quickchart {\n",
              "      --bg-color: #E8F0FE;\n",
              "      --fill-color: #1967D2;\n",
              "      --hover-bg-color: #E2EBFA;\n",
              "      --hover-fill-color: #174EA6;\n",
              "      --disabled-fill-color: #AAA;\n",
              "      --disabled-bg-color: #DDD;\n",
              "  }\n",
              "\n",
              "  [theme=dark] .colab-df-quickchart {\n",
              "      --bg-color: #3B4455;\n",
              "      --fill-color: #D2E3FC;\n",
              "      --hover-bg-color: #434B5C;\n",
              "      --hover-fill-color: #FFFFFF;\n",
              "      --disabled-bg-color: #3B4455;\n",
              "      --disabled-fill-color: #666;\n",
              "  }\n",
              "\n",
              "  .colab-df-quickchart {\n",
              "    background-color: var(--bg-color);\n",
              "    border: none;\n",
              "    border-radius: 50%;\n",
              "    cursor: pointer;\n",
              "    display: none;\n",
              "    fill: var(--fill-color);\n",
              "    height: 32px;\n",
              "    padding: 0;\n",
              "    width: 32px;\n",
              "  }\n",
              "\n",
              "  .colab-df-quickchart:hover {\n",
              "    background-color: var(--hover-bg-color);\n",
              "    box-shadow: 0 1px 2px rgba(60, 64, 67, 0.3), 0 1px 3px 1px rgba(60, 64, 67, 0.15);\n",
              "    fill: var(--button-hover-fill-color);\n",
              "  }\n",
              "\n",
              "  .colab-df-quickchart-complete:disabled,\n",
              "  .colab-df-quickchart-complete:disabled:hover {\n",
              "    background-color: var(--disabled-bg-color);\n",
              "    fill: var(--disabled-fill-color);\n",
              "    box-shadow: none;\n",
              "  }\n",
              "\n",
              "  .colab-df-spinner {\n",
              "    border: 2px solid var(--fill-color);\n",
              "    border-color: transparent;\n",
              "    border-bottom-color: var(--fill-color);\n",
              "    animation:\n",
              "      spin 1s steps(1) infinite;\n",
              "  }\n",
              "\n",
              "  @keyframes spin {\n",
              "    0% {\n",
              "      border-color: transparent;\n",
              "      border-bottom-color: var(--fill-color);\n",
              "      border-left-color: var(--fill-color);\n",
              "    }\n",
              "    20% {\n",
              "      border-color: transparent;\n",
              "      border-left-color: var(--fill-color);\n",
              "      border-top-color: var(--fill-color);\n",
              "    }\n",
              "    30% {\n",
              "      border-color: transparent;\n",
              "      border-left-color: var(--fill-color);\n",
              "      border-top-color: var(--fill-color);\n",
              "      border-right-color: var(--fill-color);\n",
              "    }\n",
              "    40% {\n",
              "      border-color: transparent;\n",
              "      border-right-color: var(--fill-color);\n",
              "      border-top-color: var(--fill-color);\n",
              "    }\n",
              "    60% {\n",
              "      border-color: transparent;\n",
              "      border-right-color: var(--fill-color);\n",
              "    }\n",
              "    80% {\n",
              "      border-color: transparent;\n",
              "      border-right-color: var(--fill-color);\n",
              "      border-bottom-color: var(--fill-color);\n",
              "    }\n",
              "    90% {\n",
              "      border-color: transparent;\n",
              "      border-bottom-color: var(--fill-color);\n",
              "    }\n",
              "  }\n",
              "</style>\n",
              "\n",
              "  <script>\n",
              "    async function quickchart(key) {\n",
              "      const quickchartButtonEl =\n",
              "        document.querySelector('#' + key + ' button');\n",
              "      quickchartButtonEl.disabled = true;  // To prevent multiple clicks.\n",
              "      quickchartButtonEl.classList.add('colab-df-spinner');\n",
              "      try {\n",
              "        const charts = await google.colab.kernel.invokeFunction(\n",
              "            'suggestCharts', [key], {});\n",
              "      } catch (error) {\n",
              "        console.error('Error during call to suggestCharts:', error);\n",
              "      }\n",
              "      quickchartButtonEl.classList.remove('colab-df-spinner');\n",
              "      quickchartButtonEl.classList.add('colab-df-quickchart-complete');\n",
              "    }\n",
              "    (() => {\n",
              "      let quickchartButtonEl =\n",
              "        document.querySelector('#df-cf0e1d62-47e6-4782-bae2-561a55e91842 button');\n",
              "      quickchartButtonEl.style.display =\n",
              "        google.colab.kernel.accessAllowed ? 'block' : 'none';\n",
              "    })();\n",
              "  </script>\n",
              "</div>\n",
              "\n",
              "    </div>\n",
              "  </div>\n"
            ],
            "application/vnd.google.colaboratory.intrinsic+json": {
              "type": "dataframe",
              "variable_name": "df"
            }
          },
          "metadata": {},
          "execution_count": 7
        }
      ],
      "source": [
        "df.head()"
      ]
    },
    {
      "cell_type": "markdown",
      "metadata": {
        "id": "qHajwOEQ8k3h"
      },
      "source": [
        "# Checking for missing values"
      ]
    },
    {
      "cell_type": "code",
      "execution_count": null,
      "metadata": {
        "colab": {
          "base_uri": "https://localhost:8080/",
          "height": 868
        },
        "id": "yDEi-uJxwxox",
        "outputId": "8cfa3a69-7c50-4a20-a59e-c96e1af75b6f"
      },
      "outputs": [
        {
          "output_type": "execute_result",
          "data": {
            "text/plain": [
              "Country                                 0\n",
              "Age                                     0\n",
              "Gender                                  0\n",
              "Education Level                         0\n",
              "BMI                                     0\n",
              "Physical Activity Level                 0\n",
              "Smoking Status                          0\n",
              "Alcohol Consumption                     0\n",
              "Diabetes                                0\n",
              "Hypertension                            0\n",
              "Cholesterol Level                       0\n",
              "Family History of Alzheimer’s           0\n",
              "Cognitive Test Score                    0\n",
              "Depression Level                        0\n",
              "Sleep Quality                           0\n",
              "Dietary Habits                          0\n",
              "Air Pollution Exposure                  0\n",
              "Employment Status                       0\n",
              "Marital Status                          0\n",
              "Genetic Risk Factor (APOE-ε4 allele)    0\n",
              "Social Engagement Level                 0\n",
              "Income Level                            0\n",
              "Stress Levels                           0\n",
              "Urban vs Rural Living                   0\n",
              "Alzheimer’s Diagnosis                   0\n",
              "dtype: int64"
            ],
            "text/html": [
              "<div>\n",
              "<style scoped>\n",
              "    .dataframe tbody tr th:only-of-type {\n",
              "        vertical-align: middle;\n",
              "    }\n",
              "\n",
              "    .dataframe tbody tr th {\n",
              "        vertical-align: top;\n",
              "    }\n",
              "\n",
              "    .dataframe thead th {\n",
              "        text-align: right;\n",
              "    }\n",
              "</style>\n",
              "<table border=\"1\" class=\"dataframe\">\n",
              "  <thead>\n",
              "    <tr style=\"text-align: right;\">\n",
              "      <th></th>\n",
              "      <th>0</th>\n",
              "    </tr>\n",
              "  </thead>\n",
              "  <tbody>\n",
              "    <tr>\n",
              "      <th>Country</th>\n",
              "      <td>0</td>\n",
              "    </tr>\n",
              "    <tr>\n",
              "      <th>Age</th>\n",
              "      <td>0</td>\n",
              "    </tr>\n",
              "    <tr>\n",
              "      <th>Gender</th>\n",
              "      <td>0</td>\n",
              "    </tr>\n",
              "    <tr>\n",
              "      <th>Education Level</th>\n",
              "      <td>0</td>\n",
              "    </tr>\n",
              "    <tr>\n",
              "      <th>BMI</th>\n",
              "      <td>0</td>\n",
              "    </tr>\n",
              "    <tr>\n",
              "      <th>Physical Activity Level</th>\n",
              "      <td>0</td>\n",
              "    </tr>\n",
              "    <tr>\n",
              "      <th>Smoking Status</th>\n",
              "      <td>0</td>\n",
              "    </tr>\n",
              "    <tr>\n",
              "      <th>Alcohol Consumption</th>\n",
              "      <td>0</td>\n",
              "    </tr>\n",
              "    <tr>\n",
              "      <th>Diabetes</th>\n",
              "      <td>0</td>\n",
              "    </tr>\n",
              "    <tr>\n",
              "      <th>Hypertension</th>\n",
              "      <td>0</td>\n",
              "    </tr>\n",
              "    <tr>\n",
              "      <th>Cholesterol Level</th>\n",
              "      <td>0</td>\n",
              "    </tr>\n",
              "    <tr>\n",
              "      <th>Family History of Alzheimer’s</th>\n",
              "      <td>0</td>\n",
              "    </tr>\n",
              "    <tr>\n",
              "      <th>Cognitive Test Score</th>\n",
              "      <td>0</td>\n",
              "    </tr>\n",
              "    <tr>\n",
              "      <th>Depression Level</th>\n",
              "      <td>0</td>\n",
              "    </tr>\n",
              "    <tr>\n",
              "      <th>Sleep Quality</th>\n",
              "      <td>0</td>\n",
              "    </tr>\n",
              "    <tr>\n",
              "      <th>Dietary Habits</th>\n",
              "      <td>0</td>\n",
              "    </tr>\n",
              "    <tr>\n",
              "      <th>Air Pollution Exposure</th>\n",
              "      <td>0</td>\n",
              "    </tr>\n",
              "    <tr>\n",
              "      <th>Employment Status</th>\n",
              "      <td>0</td>\n",
              "    </tr>\n",
              "    <tr>\n",
              "      <th>Marital Status</th>\n",
              "      <td>0</td>\n",
              "    </tr>\n",
              "    <tr>\n",
              "      <th>Genetic Risk Factor (APOE-ε4 allele)</th>\n",
              "      <td>0</td>\n",
              "    </tr>\n",
              "    <tr>\n",
              "      <th>Social Engagement Level</th>\n",
              "      <td>0</td>\n",
              "    </tr>\n",
              "    <tr>\n",
              "      <th>Income Level</th>\n",
              "      <td>0</td>\n",
              "    </tr>\n",
              "    <tr>\n",
              "      <th>Stress Levels</th>\n",
              "      <td>0</td>\n",
              "    </tr>\n",
              "    <tr>\n",
              "      <th>Urban vs Rural Living</th>\n",
              "      <td>0</td>\n",
              "    </tr>\n",
              "    <tr>\n",
              "      <th>Alzheimer’s Diagnosis</th>\n",
              "      <td>0</td>\n",
              "    </tr>\n",
              "  </tbody>\n",
              "</table>\n",
              "</div><br><label><b>dtype:</b> int64</label>"
            ]
          },
          "metadata": {},
          "execution_count": 8
        }
      ],
      "source": [
        "df.isnull().sum()"
      ]
    },
    {
      "cell_type": "markdown",
      "metadata": {
        "id": "Vg2R0jm1AJ_z"
      },
      "source": [
        "# Visualization"
      ]
    },
    {
      "cell_type": "code",
      "execution_count": null,
      "metadata": {
        "colab": {
          "base_uri": "https://localhost:8080/",
          "height": 1000
        },
        "id": "TM5c-eLEwxuu",
        "outputId": "379cd572-7d32-4bee-f9d6-4b59a66cc6a4"
      },
      "outputs": [
        {
          "output_type": "display_data",
          "data": {
            "text/plain": [
              "<Figure size 640x480 with 1 Axes>"
            ],
            "image/png": "[encoded data removed]"
          },
          "metadata": {}
        },
        {
          "output_type": "display_data",
          "data": {
            "text/plain": [
              "<Figure size 640x480 with 1 Axes>"
            ],
            "image/png": "[encoded data removed]"
          },
          "metadata": {}
        },
        {
          "output_type": "display_data",
          "data": {
            "text/plain": [
              "<Figure size 640x480 with 1 Axes>"
            ],
            "image/png": "[encoded data removed]"
          },
          "metadata": {}
        },
        {
          "output_type": "display_data",
          "data": {
            "text/plain": [
              "<Figure size 640x480 with 1 Axes>"
            ],
            "image/png": "[encoded data removed]"
          },
          "metadata": {}
        }
      ],
      "source": [
        "numerical_features = ['Age', 'BMI', 'Cognitive Test Score', 'Depression Level']\n",
        "for feature in numerical_features:\n",
        "    sns.histplot(df[feature], kde=True)\n",
        "    plt.title(f'Distribution of {feature}')\n",
        "    plt.show()\n"
      ]
    },
    {
      "cell_type": "code",
      "execution_count": null,
      "metadata": {
        "colab": {
          "base_uri": "https://localhost:8080/",
          "height": 1000
        },
        "id": "J3m9xHiLwxxP",
        "outputId": "67550565-d6fe-4463-b683-f720f4c1fb10"
      },
      "outputs": [
        {
          "output_type": "display_data",
          "data": {
            "text/plain": [
              "<Figure size 640x480 with 1 Axes>"
            ],
            "image/png": "[encoded data removed]"
          },
          "metadata": {}
        },
        {
          "output_type": "display_data",
          "data": {
            "text/plain": [
              "<Figure size 640x480 with 1 Axes>"
            ],
            "image/png": "[encoded data removed]"
          },
          "metadata": {}
        },
        {
          "output_type": "display_data",
          "data": {
            "text/plain": [
              "<Figure size 640x480 with 1 Axes>"
            ],
            "image/png": "[encoded data removed]"
          },
          "metadata": {}
        },
        {
          "output_type": "display_data",
          "data": {
            "text/plain": [
              "<Figure size 640x480 with 1 Axes>"
            ],
            "image/png": "[encoded data removed]"
          },
          "metadata": {}
        }
      ],
      "source": [
        "for feature in numerical_features:\n",
        "    sns.boxplot(x='Alzheimer’s Diagnosis', y=feature, data=df)\n",
        "    plt.title(f'{feature} vs Alzheimer’s Diagnosis')\n",
        "    plt.show()"
      ]
    },
    {
      "cell_type": "code",
      "execution_count": null,
      "metadata": {
        "colab": {
          "base_uri": "https://localhost:8080/",
          "height": 517
        },
        "id": "Myf-9Jwmwxrf",
        "outputId": "b421c404-12ea-4179-d3d5-3bd0c183d2a3"
      },
      "outputs": [
        {
          "output_type": "stream",
          "name": "stderr",
          "text": [
            "<ipython-input-11-96ac8a92b6e9>:2: FutureWarning: \n",
            "\n",
            "Passing `palette` without assigning `hue` is deprecated and will be removed in v0.14.0. Assign the `x` variable to `hue` and set `legend=False` for the same effect.\n",
            "\n",
            "  sns.countplot(data=df, x=\"Alzheimer’s Diagnosis\", palette=\"pastel\")\n"
          ]
        },
        {
          "output_type": "display_data",
          "data": {
            "text/plain": [
              "<Figure size 600x400 with 1 Axes>"
            ],
            "image/png": "[encoded data removed]"
          },
          "metadata": {}
        }
      ],
      "source": [
        "plt.figure(figsize=(6, 4))\n",
        "sns.countplot(data=df, x=\"Alzheimer’s Diagnosis\", palette=\"pastel\")\n",
        "plt.title(\"Class Distribution of Alzheimer's Diagnosis\")\n",
        "plt.xlabel(\"Diagnosis\")\n",
        "plt.ylabel(\"Count\")\n",
        "plt.show()"
      ]
    },
    {
      "cell_type": "markdown",
      "metadata": {
        "id": "Af2RmvPtDofS"
      },
      "source": [
        "# Encoding"
      ]
    },
    {
      "cell_type": "code",
      "execution_count": null,
      "metadata": {
        "id": "maUnTGiMdUet"
      },
      "outputs": [],
      "source": [
        "df = df.drop(columns=['Country'])"
      ]
    },
    {
      "cell_type": "code",
      "execution_count": null,
      "metadata": {
        "id": "pMxHfg2MdXHU"
      },
      "outputs": [],
      "source": [
        "df['Alzheimer’s Diagnosis'] = df['Alzheimer’s Diagnosis'].map({'Yes': 1, 'No': 0})"
      ]
    },
    {
      "cell_type": "code",
      "execution_count": null,
      "metadata": {
        "id": "BlXxJS0vdW6i"
      },
      "outputs": [],
      "source": [
        "df = pd.get_dummies(df, columns=[\n",
        "    \"Gender\", \"Physical Activity Level\", \"Smoking Status\",\n",
        "    \"Alcohol Consumption\", \"Diabetes\", \"Hypertension\",\n",
        "    \"Cholesterol Level\", \"Family History of Alzheimer’s\",\n",
        "    \"Depression Level\", \"Sleep Quality\", \"Dietary Habits\",\n",
        "    \"Air Pollution Exposure\", \"Employment Status\",\n",
        "    \"Marital Status\", \"Genetic Risk Factor (APOE-ε4 allele)\",\n",
        "    \"Social Engagement Level\", \"Income Level\", \"Stress Levels\",\n",
        "    \"Urban vs Rural Living\"\n",
        "], drop_first=True)\n"
      ]
    },
    {
      "cell_type": "code",
      "execution_count": null,
      "metadata": {
        "colab": {
          "base_uri": "https://localhost:8080/",
          "height": 307
        },
        "id": "vDtdTNOZwx5W",
        "outputId": "b5b65385-a310-4ef1-ca82-135d9d0e929a"
      },
      "outputs": [
        {
          "output_type": "execute_result",
          "data": {
            "text/plain": [
              "   Age  Education Level   BMI  Cognitive Test Score  Alzheimer’s Diagnosis  \\\n",
              "0   90                1  33.0                    90                      0   \n",
              "1   72                7  29.9                    65                      0   \n",
              "2   86               19  22.9                    43                      0   \n",
              "3   53               17  31.2                    81                      0   \n",
              "4   58                3  30.0                    49                      0   \n",
              "\n",
              "   Gender_Male  Physical Activity Level_Low  Physical Activity Level_Medium  \\\n",
              "0         True                        False                            True   \n",
              "1         True                        False                            True   \n",
              "2        False                        False                           False   \n",
              "3         True                         True                           False   \n",
              "4        False                        False                           False   \n",
              "\n",
              "   Smoking Status_Former  Smoking Status_Never  ...  Marital Status_Single  \\\n",
              "0                  False                  True  ...                   True   \n",
              "1                   True                 False  ...                  False   \n",
              "2                  False                 False  ...                   True   \n",
              "3                  False                  True  ...                   True   \n",
              "4                   True                 False  ...                  False   \n",
              "\n",
              "   Marital Status_Widowed  Genetic Risk Factor (APOE-ε4 allele)_Yes  \\\n",
              "0                   False                                     False   \n",
              "1                    True                                     False   \n",
              "2                   False                                     False   \n",
              "3                   False                                     False   \n",
              "4                   False                                     False   \n",
              "\n",
              "   Social Engagement Level_Low  Social Engagement Level_Medium  \\\n",
              "0                         True                           False   \n",
              "1                        False                           False   \n",
              "2                         True                           False   \n",
              "3                        False                           False   \n",
              "4                         True                           False   \n",
              "\n",
              "   Income Level_Low  Income Level_Medium  Stress Levels_Low  \\\n",
              "0             False                 True              False   \n",
              "1              True                False              False   \n",
              "2             False                 True              False   \n",
              "3             False                 True               True   \n",
              "4             False                 True              False   \n",
              "\n",
              "   Stress Levels_Medium  Urban vs Rural Living_Urban  \n",
              "0                 False                         True  \n",
              "1                 False                         True  \n",
              "2                 False                        False  \n",
              "3                 False                        False  \n",
              "4                 False                        False  \n",
              "\n",
              "[5 rows x 36 columns]"
            ],
            "text/html": [
              "\n",
              "  <div id=\"df-7f5371a1-188a-4e4a-a27b-b0ae125b8cb9\" class=\"colab-df-container\">\n",
              "    <div>\n",
              "<style scoped>\n",
              "    .dataframe tbody tr th:only-of-type {\n",
              "        vertical-align: middle;\n",
              "    }\n",
              "\n",
              "    .dataframe tbody tr th {\n",
              "        vertical-align: top;\n",
              "    }\n",
              "\n",
              "    .dataframe thead th {\n",
              "        text-align: right;\n",
              "    }\n",
              "</style>\n",
              "<table border=\"1\" class=\"dataframe\">\n",
              "  <thead>\n",
              "    <tr style=\"text-align: right;\">\n",
              "      <th></th>\n",
              "      <th>Age</th>\n",
              "      <th>Education Level</th>\n",
              "      <th>BMI</th>\n",
              "      <th>Cognitive Test Score</th>\n",
              "      <th>Alzheimer’s Diagnosis</th>\n",
              "      <th>Gender_Male</th>\n",
              "      <th>Physical Activity Level_Low</th>\n",
              "      <th>Physical Activity Level_Medium</th>\n",
              "      <th>Smoking Status_Former</th>\n",
              "      <th>Smoking Status_Never</th>\n",
              "      <th>...</th>\n",
              "      <th>Marital Status_Single</th>\n",
              "      <th>Marital Status_Widowed</th>\n",
              "      <th>Genetic Risk Factor (APOE-ε4 allele)_Yes</th>\n",
              "      <th>Social Engagement Level_Low</th>\n",
              "      <th>Social Engagement Level_Medium</th>\n",
              "      <th>Income Level_Low</th>\n",
              "      <th>Income Level_Medium</th>\n",
              "      <th>Stress Levels_Low</th>\n",
              "      <th>Stress Levels_Medium</th>\n",
              "      <th>Urban vs Rural Living_Urban</th>\n",
              "    </tr>\n",
              "  </thead>\n",
              "  <tbody>\n",
              "    <tr>\n",
              "      <th>0</th>\n",
              "      <td>90</td>\n",
              "      <td>1</td>\n",
              "      <td>33.0</td>\n",
              "      <td>90</td>\n",
              "      <td>0</td>\n",
              "      <td>True</td>\n",
              "      <td>False</td>\n",
              "      <td>True</td>\n",
              "      <td>False</td>\n",
              "      <td>True</td>\n",
              "      <td>...</td>\n",
              "      <td>True</td>\n",
              "      <td>False</td>\n",
              "      <td>False</td>\n",
              "      <td>True</td>\n",
              "      <td>False</td>\n",
              "      <td>False</td>\n",
              "      <td>True</td>\n",
              "      <td>False</td>\n",
              "      <td>False</td>\n",
              "      <td>True</td>\n",
              "    </tr>\n",
              "    <tr>\n",
              "      <th>1</th>\n",
              "      <td>72</td>\n",
              "      <td>7</td>\n",
              "      <td>29.9</td>\n",
              "      <td>65</td>\n",
              "      <td>0</td>\n",
              "      <td>True</td>\n",
              "      <td>False</td>\n",
              "      <td>True</td>\n",
              "      <td>True</td>\n",
              "      <td>False</td>\n",
              "      <td>...</td>\n",
              "      <td>False</td>\n",
              "      <td>True</td>\n",
              "      <td>False</td>\n",
              "      <td>False</td>\n",
              "      <td>False</td>\n",
              "      <td>True</td>\n",
              "      <td>False</td>\n",
              "      <td>False</td>\n",
              "      <td>False</td>\n",
              "      <td>True</td>\n",
              "    </tr>\n",
              "    <tr>\n",
              "      <th>2</th>\n",
              "      <td>86</td>\n",
              "      <td>19</td>\n",
              "      <td>22.9</td>\n",
              "      <td>43</td>\n",
              "      <td>0</td>\n",
              "      <td>False</td>\n",
              "      <td>False</td>\n",
              "      <td>False</td>\n",
              "      <td>False</td>\n",
              "      <td>False</td>\n",
              "      <td>...</td>\n",
              "      <td>True</td>\n",
              "      <td>False</td>\n",
              "      <td>False</td>\n",
              "      <td>True</td>\n",
              "      <td>False</td>\n",
              "      <td>False</td>\n",
              "      <td>True</td>\n",
              "      <td>False</td>\n",
              "      <td>False</td>\n",
              "      <td>False</td>\n",
              "    </tr>\n",
              "    <tr>\n",
              "      <th>3</th>\n",
              "      <td>53</td>\n",
              "      <td>17</td>\n",
              "      <td>31.2</td>\n",
              "      <td>81</td>\n",
              "      <td>0</td>\n",
              "      <td>True</td>\n",
              "      <td>True</td>\n",
              "      <td>False</td>\n",
              "      <td>False</td>\n",
              "      <td>True</td>\n",
              "      <td>...</td>\n",
              "      <td>True</td>\n",
              "      <td>False</td>\n",
              "      <td>False</td>\n",
              "      <td>False</td>\n",
              "      <td>False</td>\n",
              "      <td>False</td>\n",
              "      <td>True</td>\n",
              "      <td>True</td>\n",
              "      <td>False</td>\n",
              "      <td>False</td>\n",
              "    </tr>\n",
              "    <tr>\n",
              "      <th>4</th>\n",
              "      <td>58</td>\n",
              "      <td>3</td>\n",
              "      <td>30.0</td>\n",
              "      <td>49</td>\n",
              "      <td>0</td>\n",
              "      <td>False</td>\n",
              "      <td>False</td>\n",
              "      <td>False</td>\n",
              "      <td>True</td>\n",
              "      <td>False</td>\n",
              "      <td>...</td>\n",
              "      <td>False</td>\n",
              "      <td>False</td>\n",
              "      <td>False</td>\n",
              "      <td>True</td>\n",
              "      <td>False</td>\n",
              "      <td>False</td>\n",
              "      <td>True</td>\n",
              "      <td>False</td>\n",
              "      <td>False</td>\n",
              "      <td>False</td>\n",
              "    </tr>\n",
              "  </tbody>\n",
              "</table>\n",
              "<p>5 rows × 36 columns</p>\n",
              "</div>\n",
              "    <div class=\"colab-df-buttons\">\n",
              "\n",
              "  <div class=\"colab-df-container\">\n",
              "    <button class=\"colab-df-convert\" onclick=\"convertToInteractive('df-7f5371a1-188a-4e4a-a27b-b0ae125b8cb9')\"\n",
              "            title=\"Convert this dataframe to an interactive table.\"\n",
              "            style=\"display:none;\">\n",
              "\n",
              "  <svg xmlns=\"http://www.w3.org/2000/svg\" height=\"24px\" viewBox=\"0 -960 960 960\">\n",
              "    <path d=\"M120-120v-720h720v720H120Zm60-500h600v-160H180v160Zm220 220h160v-160H400v160Zm0 220h160v-160H400v160ZM180-400h160v-160H180v160Zm440 0h160v-160H620v160ZM180-180h160v-160H180v160Zm440 0h160v-160H620v160Z\"/>\n",
              "  </svg>\n",
              "    </button>\n",
              "\n",
              "  <style>\n",
              "    .colab-df-container {\n",
              "      display:flex;\n",
              "      gap: 12px;\n",
              "    }\n",
              "\n",
              "    .colab-df-convert {\n",
              "      background-color: #E8F0FE;\n",
              "      border: none;\n",
              "      border-radius: 50%;\n",
              "      cursor: pointer;\n",
              "      display: none;\n",
              "      fill: #1967D2;\n",
              "      height: 32px;\n",
              "      padding: 0 0 0 0;\n",
              "      width: 32px;\n",
              "    }\n",
              "\n",
              "    .colab-df-convert:hover {\n",
              "      background-color: #E2EBFA;\n",
              "      box-shadow: 0px 1px 2px rgba(60, 64, 67, 0.3), 0px 1px 3px 1px rgba(60, 64, 67, 0.15);\n",
              "      fill: #174EA6;\n",
              "    }\n",
              "\n",
              "    .colab-df-buttons div {\n",
              "      margin-bottom: 4px;\n",
              "    }\n",
              "\n",
              "    [theme=dark] .colab-df-convert {\n",
              "      background-color: #3B4455;\n",
              "      fill: #D2E3FC;\n",
              "    }\n",
              "\n",
              "    [theme=dark] .colab-df-convert:hover {\n",
              "      background-color: #434B5C;\n",
              "      box-shadow: 0px 1px 3px 1px rgba(0, 0, 0, 0.15);\n",
              "      filter: drop-shadow(0px 1px 2px rgba(0, 0, 0, 0.3));\n",
              "      fill: #FFFFFF;\n",
              "    }\n",
              "  </style>\n",
              "\n",
              "    <script>\n",
              "      const buttonEl =\n",
              "        document.querySelector('#df-7f5371a1-188a-4e4a-a27b-b0ae125b8cb9 button.colab-df-convert');\n",
              "      buttonEl.style.display =\n",
              "        google.colab.kernel.accessAllowed ? 'block' : 'none';\n",
              "\n",
              "      async function convertToInteractive(key) {\n",
              "        const element = document.querySelector('#df-7f5371a1-188a-4e4a-a27b-b0ae125b8cb9');\n",
              "        const dataTable =\n",
              "          await google.colab.kernel.invokeFunction('convertToInteractive',\n",
              "                                                    [key], {});\n",
              "        if (!dataTable) return;\n",
              "\n",
              "        const docLinkHtml = 'Like what you see? Visit the ' +\n",
              "          '<a target=\"_blank\" href=https://colab.research.google.com/notebooks/data_table.ipynb>data table notebook</a>'\n",
              "          + ' to learn more about interactive tables.';\n",
              "        element.innerHTML = '';\n",
              "        dataTable['output_type'] = 'display_data';\n",
              "        await google.colab.output.renderOutput(dataTable, element);\n",
              "        const docLink = document.createElement('div');\n",
              "        docLink.innerHTML = docLinkHtml;\n",
              "        element.appendChild(docLink);\n",
              "      }\n",
              "    </script>\n",
              "  </div>\n",
              "\n",
              "\n",
              "<div id=\"df-789a16b0-36ce-4748-9e34-6097967b98bb\">\n",
              "  <button class=\"colab-df-quickchart\" onclick=\"quickchart('df-789a16b0-36ce-4748-9e34-6097967b98bb')\"\n",
              "            title=\"Suggest charts\"\n",
              "            style=\"display:none;\">\n",
              "\n",
              "<svg xmlns=\"http://www.w3.org/2000/svg\" height=\"24px\"viewBox=\"0 0 24 24\"\n",
              "     width=\"24px\">\n",
              "    <g>\n",
              "        <path d=\"M19 3H5c-1.1 0-2 .9-2 2v14c0 1.1.9 2 2 2h14c1.1 0 2-.9 2-2V5c0-1.1-.9-2-2-2zM9 17H7v-7h2v7zm4 0h-2V7h2v10zm4 0h-2v-4h2v4z\"/>\n",
              "    </g>\n",
              "</svg>\n",
              "  </button>\n",
              "\n",
              "<style>\n",
              "  .colab-df-quickchart {\n",
              "      --bg-color: #E8F0FE;\n",
              "      --fill-color: #1967D2;\n",
              "      --hover-bg-color: #E2EBFA;\n",
              "      --hover-fill-color: #174EA6;\n",
              "      --disabled-fill-color: #AAA;\n",
              "      --disabled-bg-color: #DDD;\n",
              "  }\n",
              "\n",
              "  [theme=dark] .colab-df-quickchart {\n",
              "      --bg-color: #3B4455;\n",
              "      --fill-color: #D2E3FC;\n",
              "      --hover-bg-color: #434B5C;\n",
              "      --hover-fill-color: #FFFFFF;\n",
              "      --disabled-bg-color: #3B4455;\n",
              "      --disabled-fill-color: #666;\n",
              "  }\n",
              "\n",
              "  .colab-df-quickchart {\n",
              "    background-color: var(--bg-color);\n",
              "    border: none;\n",
              "    border-radius: 50%;\n",
              "    cursor: pointer;\n",
              "    display: none;\n",
              "    fill: var(--fill-color);\n",
              "    height: 32px;\n",
              "    padding: 0;\n",
              "    width: 32px;\n",
              "  }\n",
              "\n",
              "  .colab-df-quickchart:hover {\n",
              "    background-color: var(--hover-bg-color);\n",
              "    box-shadow: 0 1px 2px rgba(60, 64, 67, 0.3), 0 1px 3px 1px rgba(60, 64, 67, 0.15);\n",
              "    fill: var(--button-hover-fill-color);\n",
              "  }\n",
              "\n",
              "  .colab-df-quickchart-complete:disabled,\n",
              "  .colab-df-quickchart-complete:disabled:hover {\n",
              "    background-color: var(--disabled-bg-color);\n",
              "    fill: var(--disabled-fill-color);\n",
              "    box-shadow: none;\n",
              "  }\n",
              "\n",
              "  .colab-df-spinner {\n",
              "    border: 2px solid var(--fill-color);\n",
              "    border-color: transparent;\n",
              "    border-bottom-color: var(--fill-color);\n",
              "    animation:\n",
              "      spin 1s steps(1) infinite;\n",
              "  }\n",
              "\n",
              "  @keyframes spin {\n",
              "    0% {\n",
              "      border-color: transparent;\n",
              "      border-bottom-color: var(--fill-color);\n",
              "      border-left-color: var(--fill-color);\n",
              "    }\n",
              "    20% {\n",
              "      border-color: transparent;\n",
              "      border-left-color: var(--fill-color);\n",
              "      border-top-color: var(--fill-color);\n",
              "    }\n",
              "    30% {\n",
              "      border-color: transparent;\n",
              "      border-left-color: var(--fill-color);\n",
              "      border-top-color: var(--fill-color);\n",
              "      border-right-color: var(--fill-color);\n",
              "    }\n",
              "    40% {\n",
              "      border-color: transparent;\n",
              "      border-right-color: var(--fill-color);\n",
              "      border-top-color: var(--fill-color);\n",
              "    }\n",
              "    60% {\n",
              "      border-color: transparent;\n",
              "      border-right-color: var(--fill-color);\n",
              "    }\n",
              "    80% {\n",
              "      border-color: transparent;\n",
              "      border-right-color: var(--fill-color);\n",
              "      border-bottom-color: var(--fill-color);\n",
              "    }\n",
              "    90% {\n",
              "      border-color: transparent;\n",
              "      border-bottom-color: var(--fill-color);\n",
              "    }\n",
              "  }\n",
              "</style>\n",
              "\n",
              "  <script>\n",
              "    async function quickchart(key) {\n",
              "      const quickchartButtonEl =\n",
              "        document.querySelector('#' + key + ' button');\n",
              "      quickchartButtonEl.disabled = true;  // To prevent multiple clicks.\n",
              "      quickchartButtonEl.classList.add('colab-df-spinner');\n",
              "      try {\n",
              "        const charts = await google.colab.kernel.invokeFunction(\n",
              "            'suggestCharts', [key], {});\n",
              "      } catch (error) {\n",
              "        console.error('Error during call to suggestCharts:', error);\n",
              "      }\n",
              "      quickchartButtonEl.classList.remove('colab-df-spinner');\n",
              "      quickchartButtonEl.classList.add('colab-df-quickchart-complete');\n",
              "    }\n",
              "    (() => {\n",
              "      let quickchartButtonEl =\n",
              "        document.querySelector('#df-789a16b0-36ce-4748-9e34-6097967b98bb button');\n",
              "      quickchartButtonEl.style.display =\n",
              "        google.colab.kernel.accessAllowed ? 'block' : 'none';\n",
              "    })();\n",
              "  </script>\n",
              "</div>\n",
              "\n",
              "    </div>\n",
              "  </div>\n"
            ],
            "application/vnd.google.colaboratory.intrinsic+json": {
              "type": "dataframe",
              "variable_name": "df"
            }
          },
          "metadata": {},
          "execution_count": 15
        }
      ],
      "source": [
        "df.head()"
      ]
    },
    {
      "cell_type": "markdown",
      "metadata": {
        "id": "ft9I6BFrIjSQ"
      },
      "source": [
        "# correlation"
      ]
    },
    {
      "cell_type": "code",
      "execution_count": null,
      "metadata": {
        "colab": {
          "base_uri": "https://localhost:8080/"
        },
        "id": "32HHHESwA-AN",
        "outputId": "994cbf98-154d-4faa-d948-b314e5d61e80"
      },
      "outputs": [
        {
          "output_type": "execute_result",
          "data": {
            "text/plain": [
              "Index(['Age', 'Education Level', 'BMI', 'Cognitive Test Score',\n",
              "       'Alzheimer’s Diagnosis', 'Gender_Male', 'Physical Activity Level_Low',\n",
              "       'Physical Activity Level_Medium', 'Smoking Status_Former',\n",
              "       'Smoking Status_Never', 'Alcohol Consumption_Occasionally',\n",
              "       'Alcohol Consumption_Regularly', 'Diabetes_Yes', 'Hypertension_Yes',\n",
              "       'Cholesterol Level_Normal', 'Family History of Alzheimer’s_Yes',\n",
              "       'Depression Level_Low', 'Depression Level_Medium', 'Sleep Quality_Good',\n",
              "       'Sleep Quality_Poor', 'Dietary Habits_Healthy',\n",
              "       'Dietary Habits_Unhealthy', 'Air Pollution Exposure_Low',\n",
              "       'Air Pollution Exposure_Medium', 'Employment Status_Retired',\n",
              "       'Employment Status_Unemployed', 'Marital Status_Single',\n",
              "       'Marital Status_Widowed', 'Genetic Risk Factor (APOE-ε4 allele)_Yes',\n",
              "       'Social Engagement Level_Low', 'Social Engagement Level_Medium',\n",
              "       'Income Level_Low', 'Income Level_Medium', 'Stress Levels_Low',\n",
              "       'Stress Levels_Medium', 'Urban vs Rural Living_Urban'],\n",
              "      dtype='object')"
            ]
          },
          "metadata": {},
          "execution_count": 16
        }
      ],
      "source": [
        "df.columns"
      ]
    },
    {
      "cell_type": "code",
      "execution_count": null,
      "metadata": {
        "colab": {
          "base_uri": "https://localhost:8080/",
          "height": 799
        },
        "id": "iTcNIJRFBAu2",
        "outputId": "31bb115d-eeac-4e19-f1a2-93c735477e9d"
      },
      "outputs": [
        {
          "output_type": "execute_result",
          "data": {
            "text/plain": [
              "Text(0.5, 1.0, 'Correlation Matrix')"
            ]
          },
          "metadata": {},
          "execution_count": 17
        },
        {
          "output_type": "display_data",
          "data": {
            "text/plain": [
              "<Figure size 1200x600 with 2 Axes>"
            ],
            "image/png": "[encoded data removed]"
          },
          "metadata": {}
        }
      ],
      "source": [
        "plt.figure(figsize=(12, 6))\n",
        "sns.heatmap(df[['Age', 'Family History of Alzheimer’s_Yes', 'Genetic Risk Factor (APOE-ε4 allele)_Yes','Alzheimer’s Diagnosis']].corr(), annot=True, cmap='coolwarm', fmt=\".2f\")\n",
        "plt.title(\"Correlation Matrix\")"
      ]
    },
    {
      "cell_type": "markdown",
      "metadata": {
        "id": "GALWn6gqJYyd"
      },
      "source": [
        "# Split Data"
      ]
    },
    {
      "cell_type": "code",
      "execution_count": null,
      "metadata": {
        "id": "EEyRHoASwyMQ"
      },
      "outputs": [],
      "source": [
        "from sklearn.model_selection import train_test_split\n",
        "x = df.drop(columns=['Alzheimer’s Diagnosis'])\n",
        "y = df['Alzheimer’s Diagnosis']\n",
        "x_train, x_test, y_train, y_test = train_test_split(x, y, test_size=0.2, random_state=42)\n"
      ]
    },
    {
      "cell_type": "code",
      "execution_count": null,
      "metadata": {
        "id": "3LkeSfj6wyTs"
      },
      "outputs": [],
      "source": [
        "scaler = StandardScaler()\n",
        "x_train = scaler.fit_transform(x_train)\n",
        "x_test = scaler.transform(x_test)"
      ]
    },
    {
      "cell_type": "markdown",
      "metadata": {
        "id": "SV6aBSiKe08Z"
      },
      "source": [
        "# Model Training"
      ]
    },
    {
      "cell_type": "markdown",
      "metadata": {
        "id": "kF-bx_BxCRdX"
      },
      "source": [
        "# Logistic Regression"
      ]
    },
    {
      "cell_type": "code",
      "execution_count": null,
      "metadata": {
        "colab": {
          "base_uri": "https://localhost:8080/"
        },
        "id": "Jl7c2uemwyrJ",
        "outputId": "dba8f147-c258-4377-bfe3-3ec91dfe86fb"
      },
      "outputs": [
        {
          "output_type": "stream",
          "name": "stdout",
          "text": [
            "Logistic Regression Results:\n",
            "Accuracy: 0.7122\n",
            "ROC-AUC: 0.7864\n",
            "Classification Report:\n",
            "               precision    recall  f1-score   support\n",
            "\n",
            "           0       0.74      0.79      0.76      8719\n",
            "           1       0.67      0.60      0.63      6138\n",
            "\n",
            "    accuracy                           0.71     14857\n",
            "   macro avg       0.70      0.70      0.70     14857\n",
            "weighted avg       0.71      0.71      0.71     14857\n",
            "\n",
            "Confusion Matrix:\n",
            " [[6898 1821]\n",
            " [2455 3683]]\n",
            "--------------------------------------------------\n"
          ]
        }
      ],
      "source": [
        "from sklearn.linear_model import LogisticRegression\n",
        "from sklearn.metrics import accuracy_score, classification_report, confusion_matrix, roc_auc_score\n",
        "\n",
        "log_reg = LogisticRegression()\n",
        "log_reg.fit(x_train, y_train)\n",
        "\n",
        "\n",
        "y_pred_log = log_reg.predict(x_test)\n",
        "y_pred_proba_log = log_reg.predict_proba(x_test)[:, 1]\n",
        "\n",
        "accuracy_log = accuracy_score(y_test, y_pred_log)\n",
        "roc_auc_log = roc_auc_score(y_test, y_pred_proba_log)\n",
        "\n",
        "print(\"Logistic Regression Results:\")\n",
        "print(f\"Accuracy: {accuracy_log:.4f}\")\n",
        "print(f\"ROC-AUC: {roc_auc_log:.4f}\")\n",
        "print(\"Classification Report:\\n\", classification_report(y_test, y_pred_log))\n",
        "print(\"Confusion Matrix:\\n\", confusion_matrix(y_test, y_pred_log))\n",
        "print(\"-\" * 50)"
      ]
    },
    {
      "cell_type": "markdown",
      "metadata": {
        "id": "uHDRYNhFEhcZ"
      },
      "source": [
        "# KNN"
      ]
    },
    {
      "cell_type": "code",
      "execution_count": null,
      "metadata": {
        "colab": {
          "base_uri": "https://localhost:8080/"
        },
        "id": "K9QmI451e2wU",
        "outputId": "abb1d590-da74-419b-ad04-73b129e69ded"
      },
      "outputs": [
        {
          "output_type": "stream",
          "name": "stdout",
          "text": [
            "KNN Results:\n",
            "Accuracy: 0.6322\n",
            "ROC-AUC: 0.6501\n",
            "Classification Report:\n",
            "               precision    recall  f1-score   support\n",
            "\n",
            "           0       0.66      0.75      0.71      8719\n",
            "           1       0.57      0.46      0.51      6138\n",
            "\n",
            "    accuracy                           0.63     14857\n",
            "   macro avg       0.62      0.61      0.61     14857\n",
            "weighted avg       0.62      0.63      0.62     14857\n",
            "\n",
            "Confusion Matrix:\n",
            " [[6577 2142]\n",
            " [3323 2815]]\n",
            "--------------------------------------------------\n"
          ]
        }
      ],
      "source": [
        "from sklearn.neighbors import KNeighborsClassifier\n",
        "\n",
        "knn=KNeighborsClassifier(n_neighbors=5)\n",
        "knn.fit(x_train, y_train)\n",
        "\n",
        "y_pred_knn = knn.predict(x_test)\n",
        "y_pred_proba_knn = knn.predict_proba(x_test)[:, 1]\n",
        "\n",
        "accuracy_knn = accuracy_score(y_test, y_pred_knn)\n",
        "roc_auc_knn = roc_auc_score(y_test, y_pred_proba_knn)\n",
        "\n",
        "print(\"KNN Results:\")\n",
        "print(f\"Accuracy: {accuracy_knn:.4f}\")\n",
        "print(f\"ROC-AUC: {roc_auc_knn:.4f}\")\n",
        "print(\"Classification Report:\\n\", classification_report(y_test, y_pred_knn))\n",
        "print(\"Confusion Matrix:\\n\", confusion_matrix(y_test, y_pred_knn))\n",
        "print(\"-\" * 50)"
      ]
    },
    {
      "cell_type": "markdown",
      "metadata": {
        "id": "92dxKkF_F9Ld"
      },
      "source": [
        "# SVM"
      ]
    },
    {
      "cell_type": "code",
      "execution_count": null,
      "metadata": {
        "colab": {
          "base_uri": "https://localhost:8080/"
        },
        "id": "dniff2I0e22g",
        "outputId": "b93dff9b-83ca-404d-ad98-a0ac56978e54"
      },
      "outputs": [
        {
          "output_type": "stream",
          "name": "stdout",
          "text": [
            "Support Vector Machine (SVM) Results:\n",
            "Accuracy: 0.7078\n",
            "ROC-AUC: 0.7737\n",
            "Classification Report:\n",
            "               precision    recall  f1-score   support\n",
            "\n",
            "           0       0.74      0.78      0.76      8719\n",
            "           1       0.66      0.60      0.63      6138\n",
            "\n",
            "    accuracy                           0.71     14857\n",
            "   macro avg       0.70      0.69      0.69     14857\n",
            "weighted avg       0.71      0.71      0.71     14857\n",
            "\n",
            "Confusion Matrix:\n",
            " [[6825 1894]\n",
            " [2447 3691]]\n",
            "--------------------------------------------------\n"
          ]
        }
      ],
      "source": [
        "from sklearn.svm import SVC\n",
        "\n",
        "svm = SVC(probability=True)\n",
        "svm.fit(x_train, y_train)\n",
        "\n",
        "y_pred_svm = svm.predict(x_test)\n",
        "y_pred_proba_svm = svm.predict_proba(x_test)[:, 1]\n",
        "\n",
        "accuracy_svm = accuracy_score(y_test, y_pred_svm)\n",
        "roc_auc_svm = roc_auc_score(y_test, y_pred_proba_svm)\n",
        "\n",
        "print(\"Support Vector Machine (SVM) Results:\")\n",
        "print(f\"Accuracy: {accuracy_svm:.4f}\")\n",
        "print(f\"ROC-AUC: {roc_auc_svm:.4f}\")\n",
        "print(\"Classification Report:\\n\", classification_report(y_test, y_pred_svm))\n",
        "print(\"Confusion Matrix:\\n\", confusion_matrix(y_test, y_pred_svm))\n",
        "print(\"-\" * 50)"
      ]
    },
    {
      "cell_type": "markdown",
      "metadata": {
        "id": "SVEcTnHxGvKO"
      },
      "source": [
        "# Decision Tree"
      ]
    },
    {
      "cell_type": "code",
      "execution_count": null,
      "metadata": {
        "id": "ZQ2yVb-Ae25V",
        "colab": {
          "base_uri": "https://localhost:8080/"
        },
        "outputId": "d445554c-7b14-49a3-db0c-30ff64724f0e"
      },
      "outputs": [
        {
          "output_type": "stream",
          "name": "stdout",
          "text": [
            "Decision Tree Results:\n",
            "Accuracy: 0.6328\n",
            "ROC-AUC: 0.6235\n",
            "Classification Report:\n",
            "               precision    recall  f1-score   support\n",
            "\n",
            "           0       0.69      0.68      0.68      8719\n",
            "           1       0.55      0.57      0.56      6138\n",
            "\n",
            "    accuracy                           0.63     14857\n",
            "   macro avg       0.62      0.62      0.62     14857\n",
            "weighted avg       0.63      0.63      0.63     14857\n",
            "\n",
            "Confusion Matrix:\n",
            " [[5901 2818]\n",
            " [2638 3500]]\n",
            "--------------------------------------------------\n"
          ]
        }
      ],
      "source": [
        "from sklearn.tree import DecisionTreeClassifier\n",
        "\n",
        "\n",
        "dt = DecisionTreeClassifier()\n",
        "dt.fit(x_train, y_train)\n",
        "\n",
        "\n",
        "y_pred_dt = dt.predict(x_test)\n",
        "y_pred_proba_dt = dt.predict_proba(x_test)[:, 1]\n",
        "\n",
        "\n",
        "accuracy_dt = accuracy_score(y_test, y_pred_dt)\n",
        "roc_auc_dt = roc_auc_score(y_test, y_pred_proba_dt)\n",
        "\n",
        "\n",
        "print(\"Decision Tree Results:\")\n",
        "print(f\"Accuracy: {accuracy_dt:.4f}\")\n",
        "print(f\"ROC-AUC: {roc_auc_dt:.4f}\")\n",
        "print(\"Classification Report:\\n\", classification_report(y_test, y_pred_dt))\n",
        "print(\"Confusion Matrix:\\n\", confusion_matrix(y_test, y_pred_dt))\n",
        "print(\"-\" * 50)\n"
      ]
    },
    {
      "cell_type": "markdown",
      "metadata": {
        "id": "WP0VjeOLHWId"
      },
      "source": [
        "# Random Forest"
      ]
    },
    {
      "cell_type": "code",
      "execution_count": null,
      "metadata": {
        "id": "j5AWraZWe278",
        "colab": {
          "base_uri": "https://localhost:8080/"
        },
        "outputId": "be24215e-5adb-4680-c69a-81d565d5ab53"
      },
      "outputs": [
        {
          "output_type": "stream",
          "name": "stdout",
          "text": [
            "Random Forest Results:\n",
            "Accuracy: 0.7150\n",
            "ROC-AUC: 0.7878\n",
            "Classification Report:\n",
            "               precision    recall  f1-score   support\n",
            "\n",
            "           0       0.75      0.77      0.76      8719\n",
            "           1       0.66      0.63      0.65      6138\n",
            "\n",
            "    accuracy                           0.72     14857\n",
            "   macro avg       0.71      0.70      0.70     14857\n",
            "weighted avg       0.71      0.72      0.71     14857\n",
            "\n",
            "Confusion Matrix:\n",
            " [[6753 1966]\n",
            " [2268 3870]]\n",
            "--------------------------------------------------\n"
          ]
        }
      ],
      "source": [
        "from sklearn.ensemble import RandomForestClassifier\n",
        "\n",
        "\n",
        "rf = RandomForestClassifier(n_estimators=100)\n",
        "rf.fit(x_train, y_train)\n",
        "\n",
        "\n",
        "y_pred_rf = rf.predict(x_test)\n",
        "y_pred_proba_rf = rf.predict_proba(x_test)[:, 1]\n",
        "\n",
        "\n",
        "accuracy_rf = accuracy_score(y_test, y_pred_rf)\n",
        "roc_auc_rf = roc_auc_score(y_test, y_pred_proba_rf)\n",
        "\n",
        "\n",
        "print(\"Random Forest Results:\")\n",
        "print(f\"Accuracy: {accuracy_rf:.4f}\")\n",
        "print(f\"ROC-AUC: {roc_auc_rf:.4f}\")\n",
        "print(\"Classification Report:\\n\", classification_report(y_test, y_pred_rf))\n",
        "print(\"Confusion Matrix:\\n\", confusion_matrix(y_test, y_pred_rf))\n",
        "print(\"-\" * 50)\n"
      ]
    },
    {
      "cell_type": "markdown",
      "metadata": {
        "id": "i0mOeoRnHr9S"
      },
      "source": [
        "# XGBoost"
      ]
    },
    {
      "cell_type": "code",
      "execution_count": null,
      "metadata": {
        "id": "Ik-thzYoe2-Z",
        "colab": {
          "base_uri": "https://localhost:8080/"
        },
        "outputId": "b067167d-b1bc-4c22-a5fb-7dea039f376c"
      },
      "outputs": [
        {
          "output_type": "stream",
          "name": "stderr",
          "text": [
            "/usr/local/lib/python3.11/dist-packages/xgboost/core.py:158: UserWarning: [12:23:05] WARNING: /workspace/src/learner.cc:740: \n",
            "Parameters: { \"use_label_encoder\" } are not used.\n",
            "\n",
            "  warnings.warn(smsg, UserWarning)\n"
          ]
        },
        {
          "output_type": "stream",
          "name": "stdout",
          "text": [
            "🔹 XGBoost Results:\n",
            "Accuracy: 0.7108\n",
            "ROC-AUC: 0.7808\n",
            "Classification Report:\n",
            "               precision    recall  f1-score   support\n",
            "\n",
            "           0       0.75      0.76      0.75      8719\n",
            "           1       0.65      0.65      0.65      6138\n",
            "\n",
            "    accuracy                           0.71     14857\n",
            "   macro avg       0.70      0.70      0.70     14857\n",
            "weighted avg       0.71      0.71      0.71     14857\n",
            "\n",
            "Confusion Matrix:\n",
            " [[6593 2126]\n",
            " [2170 3968]]\n",
            "--------------------------------------------------\n"
          ]
        }
      ],
      "source": [
        "from xgboost import XGBClassifier\n",
        "\n",
        "# Initialize and train\n",
        "xgb = XGBClassifier(use_label_encoder=False, eval_metric='logloss')\n",
        "xgb.fit(x_train, y_train)\n",
        "\n",
        "# Predictions\n",
        "y_pred_xgb = xgb.predict(x_test)\n",
        "y_pred_proba_xgb = xgb.predict_proba(x_test)[:, 1]\n",
        "\n",
        "# Evaluation\n",
        "accuracy_xgb = accuracy_score(y_test, y_pred_xgb)\n",
        "roc_auc_xgb = roc_auc_score(y_test, y_pred_proba_xgb)\n",
        "\n",
        "# Print results\n",
        "print(\"🔹 XGBoost Results:\")\n",
        "print(f\"Accuracy: {accuracy_xgb:.4f}\")\n",
        "print(f\"ROC-AUC: {roc_auc_xgb:.4f}\")\n",
        "print(\"Classification Report:\\n\", classification_report(y_test, y_pred_xgb))\n",
        "print(\"Confusion Matrix:\\n\", confusion_matrix(y_test, y_pred_xgb))\n",
        "print(\"-\" * 50)\n"
      ]
    },
    {
      "cell_type": "markdown",
      "source": [
        "# Compare between models"
      ],
      "metadata": {
        "id": "CoQYJ2Ypsxz9"
      }
    },
    {
      "cell_type": "code",
      "execution_count": null,
      "metadata": {
        "id": "X8z5WX8se3A_",
        "colab": {
          "base_uri": "https://localhost:8080/"
        },
        "outputId": "65da64d7-bd45-4d0d-bb65-839f6bc1da36"
      },
      "outputs": [
        {
          "output_type": "stream",
          "name": "stdout",
          "text": [
            "                     Accuracy  Precision    Recall  F1-Score   ROC-AUC\n",
            "Logistic Regression  0.712190   0.669150  0.600033  0.632709  0.786402\n",
            "KNN                  0.632160   0.567884  0.458618  0.507436  0.650081\n",
            "SVM                  0.707814   0.660877  0.601336  0.629702  0.773720\n",
            "Decision Tree        0.632766   0.553973  0.570218  0.561978  0.623508\n",
            "Random Forest        0.715016   0.663125  0.630499  0.646401  0.787755\n",
            "XGBoost              0.710843   0.651132  0.646465  0.648790  0.780825\n"
          ]
        }
      ],
      "source": [
        "from sklearn.metrics import accuracy_score, precision_score, recall_score, f1_score, roc_auc_score\n",
        "\n",
        "\n",
        "model_results = {}\n",
        "\n",
        "\n",
        "def evaluate_model(name, y_true, y_pred, y_probs):\n",
        "    model_results[name] = {\n",
        "        \"Accuracy\": accuracy_score(y_true, y_pred),\n",
        "        \"Precision\": precision_score(y_true, y_pred),\n",
        "        \"Recall\": recall_score(y_true, y_pred),\n",
        "        \"F1-Score\": f1_score(y_true, y_pred),\n",
        "        \"ROC-AUC\": roc_auc_score(y_true, y_probs)\n",
        "    }\n",
        "\n",
        "\n",
        "evaluate_model(\"Logistic Regression\", y_test, y_pred_log , y_pred_proba_log )\n",
        "evaluate_model(\"KNN\", y_test, y_pred_knn, y_pred_proba_knn)\n",
        "evaluate_model(\"SVM\", y_test, y_pred_svm, y_pred_proba_svm)\n",
        "evaluate_model(\"Decision Tree\", y_test, y_pred_dt, y_pred_proba_dt)\n",
        "evaluate_model(\"Random Forest\", y_test, y_pred_rf, y_pred_proba_rf)\n",
        "evaluate_model(\"XGBoost\", y_test, y_pred_xgb,y_pred_proba_xgb)\n",
        "\n",
        "\n",
        "results_df = pd.DataFrame(model_results).T\n",
        "print(results_df)\n"
      ]
    },
    {
      "cell_type": "code",
      "execution_count": null,
      "metadata": {
        "id": "HKmjkTFSe3GK"
      },
      "outputs": [],
      "source": []
    }
  ],
  "metadata": {
    "colab": {
      "provenance": []
    },
    "kernelspec": {
      "display_name": "Python 3",
      "name": "python3"
    },
    "language_info": {
      "name": "python"
    }
  },
  "nbformat": 4,
  "nbformat_minor": 0
}